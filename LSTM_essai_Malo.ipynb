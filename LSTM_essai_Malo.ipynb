{
 "cells": [
  {
   "cell_type": "code",
   "execution_count": 47,
   "id": "0b508cad",
   "metadata": {},
   "outputs": [
    {
     "name": "stderr",
     "output_type": "stream",
     "text": [
      "[nltk_data] Downloading package stopwords to\n",
      "[nltk_data]     C:\\Users\\Malo\\AppData\\Roaming\\nltk_data...\n",
      "[nltk_data]   Package stopwords is already up-to-date!\n"
     ]
    }
   ],
   "source": [
    "import numpy as np\n",
    "import pandas as pd \n",
    "import re\n",
    "from keras.preprocessing.text import Tokenizer \n",
    "import nltk\n",
    "from nltk import download\n",
    "download('stopwords')\n",
    "from nltk.corpus import stopwords\n",
    "\n",
    "\n",
    "import json\n",
    "import gzip\n",
    "import os\n",
    "import sys\n",
    "import argparse\n",
    "#import panda as pd\n",
    "import matplotlib.pyplot as plt\n",
    "import re\n",
    "# Library for boxplots\n",
    "import seaborn as sns\n",
    "from tqdm import tqdm\n",
    "\n",
    "from tensorflow.keras.layers import Input, LSTM, Embedding, Dense, Concatenate, TimeDistributed\n",
    "from tensorflow.keras.models import Model\n",
    "from tensorflow.keras.callbacks import EarlyStopping\n",
    "import warnings\n",
    "from keras.preprocessing.text import Tokenizer \n",
    "from keras.preprocessing.sequence import pad_sequences\n",
    "\n",
    "#from tensorflow.keras.layers import Attention\n",
    "#from attention import AttentionLayer\n",
    "\n",
    "#from keras_self_attention import SeqSelfAttention\n",
    "pd.set_option(\"display.max_colwidth\", 200)\n",
    "warnings.filterwarnings(\"ignore\")\n",
    "\n"
   ]
  },
  {
   "cell_type": "code",
   "execution_count": 17,
   "id": "8bdec3d1",
   "metadata": {},
   "outputs": [],
   "source": [
    "def readData(path,filename):\n",
    "    json_obj_list=[]\n",
    "    with open(os.path.join(path,filename),'r') as fin:\n",
    "        for row in fin:\n",
    "            json_obj_list.append(json.loads(row))\n",
    "    return json_obj_list"
   ]
  },
  {
   "cell_type": "code",
   "execution_count": 18,
   "id": "321dcd76",
   "metadata": {},
   "outputs": [],
   "source": [
    "CURRENCIES = {\n",
    "    \"$\": \"USD\", \"zł\": \"PLN\", \"£\": \"GBP\", \"¥\": \"JPY\", \"฿\": \"THB\", \"₡\": \"CRC\", \"₦\": \"NGN\",\"₩\": \"KRW\",\n",
    "    \"₪\": \"ILS\", \"₫\": \"VND\", \"€\": \"EUR\", \"₱\": \"PHP\", \"₲\": \"PYG\", \"₴\": \"UAH\", \"₹\": \"INR\",}\n",
    "CURRENCY_REGEX = re.compile(\n",
    "    \"({})+\".format(\"|\".join(re.escape(c) for c in CURRENCIES.keys())))\n",
    "\n",
    "EMAIL_REGEX = re.compile(\n",
    "    r\"(?:^|(?<=[^\\w@.)]))([\\w+-](\\.(?!\\.))?)*?[\\w+-]@(?:\\w-?)*?\\w+(\\.([a-z]{2,})){1,3}(?:$|(?=\\b))\",\n",
    "    flags=re.IGNORECASE | re.UNICODE,)\n",
    "\n",
    "# A list of contractions from http://stackoverflow.com/questions/19790188/expanding-english-language-contractions-in-python\n",
    "contractions =          {\"ain't\": \"is not\", \"aren't\": \"are not\",\"can't\": \"cannot\", \"'cause\": \"because\", \"could've\": \"could have\", \"couldn't\": \"could not\",\n",
    "                           \"didn't\": \"did not\",  \"doesn't\": \"does not\", \"don't\": \"do not\", \"hadn't\": \"had not\", \"hasn't\": \"has not\", \"haven't\": \"have not\",\n",
    "                           \"he'd\": \"he would\",\"he'll\": \"he will\", \"he's\": \"he is\", \"how'd\": \"how did\", \"how'd'y\": \"how do you\", \"how'll\": \"how will\", \"how's\": \"how is\",\n",
    "                           \"I'd\": \"I would\", \"I'd've\": \"I would have\", \"I'll\": \"I will\", \"I'll've\": \"I will have\",\"I'm\": \"I am\", \"I've\": \"I have\", \"i'd\": \"i would\",\n",
    "                           \"i'd've\": \"i would have\", \"i'll\": \"i will\",  \"i'll've\": \"i will have\",\"i'm\": \"i am\", \"i've\": \"i have\", \"isn't\": \"is not\", \"it'd\": \"it would\",\n",
    "                           \"it'd've\": \"it would have\", \"it'll\": \"it will\", \"it'll've\": \"it will have\",\"it's\": \"it is\", \"let's\": \"let us\", \"ma'am\": \"madam\",\n",
    "                           \"mayn't\": \"may not\", \"might've\": \"might have\",\"mightn't\": \"might not\",\"mightn't've\": \"might not have\", \"must've\": \"must have\",\n",
    "                           \"mustn't\": \"must not\", \"mustn't've\": \"must not have\", \"needn't\": \"need not\", \"needn't've\": \"need not have\",\"o'clock\": \"of the clock\",\n",
    "                           \"oughtn't\": \"ought not\", \"oughtn't've\": \"ought not have\", \"shan't\": \"shall not\", \"sha'n't\": \"shall not\", \"shan't've\": \"shall not have\",\n",
    "                           \"she'd\": \"she would\", \"she'd've\": \"she would have\", \"she'll\": \"she will\", \"she'll've\": \"she will have\", \"she's\": \"she is\",\n",
    "                           \"should've\": \"should have\", \"shouldn't\": \"should not\", \"shouldn't've\": \"should not have\", \"so've\": \"so have\",\"so's\": \"so as\",\n",
    "                           \"this's\": \"this is\",\"that'd\": \"that would\", \"that'd've\": \"that would have\", \"that's\": \"that is\", \"there'd\": \"there would\",\n",
    "                           \"there'd've\": \"there would have\", \"there's\": \"there is\", \"here's\": \"here is\",\"they'd\": \"they would\", \"they'd've\": \"they would have\",\n",
    "                           \"they'll\": \"they will\", \"they'll've\": \"they will have\", \"they're\": \"they are\", \"they've\": \"they have\", \"to've\": \"to have\",\n",
    "                           \"wasn't\": \"was not\", \"we'd\": \"we would\", \"we'd've\": \"we would have\", \"we'll\": \"we will\", \"we'll've\": \"we will have\", \"we're\": \"we are\",\n",
    "                           \"we've\": \"we have\", \"weren't\": \"were not\", \"what'll\": \"what will\", \"what'll've\": \"what will have\", \"what're\": \"what are\",\n",
    "                           \"what's\": \"what is\", \"what've\": \"what have\", \"when's\": \"when is\", \"when've\": \"when have\", \"where'd\": \"where did\", \"where's\": \"where is\",\n",
    "                           \"where've\": \"where have\", \"who'll\": \"who will\", \"who'll've\": \"who will have\", \"who's\": \"who is\", \"who've\": \"who have\",\n",
    "                           \"why's\": \"why is\", \"why've\": \"why have\", \"will've\": \"will have\", \"won't\": \"will not\", \"won't've\": \"will not have\",\n",
    "                           \"would've\": \"would have\", \"wouldn't\": \"would not\", \"wouldn't've\": \"would not have\", \"y'all\": \"you all\",\n",
    "                           \"y'all'd\": \"you all would\",\"y'all'd've\": \"you all would have\",\"y'all're\": \"you all are\",\"y'all've\": \"you all have\",\n",
    "                           \"you'd\": \"you would\", \"you'd've\": \"you would have\", \"you'll\": \"you will\", \"you'll've\": \"you will have\",\n",
    "                           \"you're\": \"you are\", \"you've\": \"you have\", \"i've\": \"i have\"}\n",
    "def clean_text(text, remove_stopwords = True):\n",
    "    \n",
    "    text = text.lower()\n",
    "    if True:\n",
    "        text = text.split()\n",
    "        new_text = []\n",
    "        for word in text:\n",
    "            if word in contractions:\n",
    "                print(\"contract\")\n",
    "                new_text.append(contractions[word])\n",
    "            else:\n",
    "                new_text.append(word)\n",
    "        text = \" \".join(new_text)\n",
    "        \n",
    "    text = re.sub(r'https?:\\/\\/.*[\\r\\n]*', '', text, flags=re.MULTILINE)\n",
    "    text = EMAIL_REGEX.sub(' ',text)\n",
    "    text = CURRENCY_REGEX.sub(' ',text)\n",
    "    text = ' '.join([contractions[t] if t in contractions else t for t in text.split(\" \")])    \n",
    "    text = re.sub(r'[_\"\\-;%()|+&=*%.,!?:#$@\\[\\]/]', ' ', text)\n",
    "    text = re.sub(r\"'s\\b\",\"\", text)\n",
    "    text = re.sub(r'&amp;', '', text) \n",
    "    \n",
    "    if remove_stopwords:\n",
    "        text = text.split()\n",
    "        stops = set(stopwords.words(\"english\"))\n",
    "        text = [w for w in text if not w in stops]\n",
    "        text = \" \".join(text)\n",
    "\n",
    "    return text\n",
    "\n"
   ]
  },
  {
   "cell_type": "code",
   "execution_count": 20,
   "id": "75440964",
   "metadata": {},
   "outputs": [
    {
     "data": {
      "image/png": "[encoded data removed]",
      "text/plain": [
       "<Figure size 432x288 with 1 Axes>"
      ]
     },
     "metadata": {
      "needs_background": "light"
     },
     "output_type": "display_data"
    },
    {
     "data": {
      "image/png": "[encoded data removed]",
      "text/plain": [
       "<Figure size 432x288 with 1 Axes>"
      ]
     },
     "metadata": {
      "needs_background": "light"
     },
     "output_type": "display_data"
    }
   ],
   "source": [
    "# A remplacer par \"train\"  \"val\"   \"test\"\n",
    "kind_data=\"train\"\n",
    "\n",
    "file_names = [file for file in os.listdir(os.path.join(\"data\",kind_data,\"g\")) if \".txt\" in file][:10]\n",
    "diff_abs,diff_des=[],[]\n",
    "for file_name in tqdm(file_names):\n",
    "    \n",
    "    listJSON = readData(os.path.join(\"data\",kind_data,\"g\"),file_name)\n",
    "    #print(listJSON)\n",
    "    #JSONlist=filterChars(os.path.join(\"data\",kind_data,\"g\"),file_name,listJSON)\n",
    "    for i in range(len(listJSON)) :\n",
    "        abstract = listJSON[i]['abstract']\n",
    "        description = listJSON[i]['description']\n",
    "        txt2_ab=clean_text(abstract, remove_stopwords = True)\n",
    "        if len(abstract)!=len(txt2_ab):\n",
    "            print(file_name, \", row \",i,\" abs-abs2 : \",len(abstract)-len(txt2_ab))\n",
    "        diff_abs.append(len(abstract)-len(txt2_ab))\n",
    "        txt2_de=clean_text(description, remove_stopwords = True)\n",
    "        if len(description)!=len(txt2_de):\n",
    "            print(file_name, \", row \",i,\" des-des2 : \",len(description)-len(txt2_de))\n",
    "        diff_des.append(len(description)-len(txt2_de))\n",
    "\n",
    "diff_abs,diff_des=np.array(diff_abs),np.array(diff_des)\n",
    "        \n",
    "sns.boxplot(data=diff_abs,fliersize=10)   \n",
    "plt.show()      \n",
    "sns.boxplot(data=diff_des,fliersize=10)   \n",
    "plt.show()      \n",
    "\n",
    "        "
   ]
  },
  {
   "cell_type": "markdown",
   "id": "3ae1fe94",
   "metadata": {},
   "source": [
    "### Mesure des tailles "
   ]
  },
  {
   "cell_type": "code",
   "execution_count": 25,
   "id": "2e9bb306",
   "metadata": {},
   "outputs": [
    {
     "name": "stdout",
     "output_type": "stream",
     "text": [
      "new_data000000000000.txt\n",
      "new_data000000000001.txt\n",
      "new_data000000000002.txt\n",
      "new_data000000000003.txt\n",
      "new_data000000000004.txt\n",
      "new_data000000000005.txt\n",
      "new_data000000000006.txt\n",
      "new_data000000000007.txt\n",
      "new_data000000000008.txt\n",
      "new_data000000000009.txt\n",
      "new_data000000000010.txt\n",
      "new_data000000000011.txt\n",
      "new_data000000000012.txt\n",
      "new_data000000000013.txt\n",
      "new_data000000000014.txt\n",
      "new_data000000000015.txt\n",
      "new_data000000000016.txt\n",
      "new_data000000000017.txt\n",
      "new_data000000000019.txt\n",
      "new_data000000000020.txt\n",
      "new_data000000000021.txt\n",
      "new_data000000000022.txt\n",
      "new_data000000000023.txt\n",
      "new_data000000000024.txt\n",
      "new_data000000000025.txt\n",
      "new_data000000000026.txt\n",
      "new_data000000000027.txt\n",
      "new_data000000000028.txt\n",
      "new_data000000000029.txt\n",
      "new_data000000000030.txt\n",
      "new_data000000000033.txt\n",
      "new_data000000000034.txt\n",
      "new_data000000000035.txt\n",
      "new_data000000000036.txt\n",
      "new_data000000000037.txt\n",
      "new_data000000000038.txt\n",
      "new_data000000000039.txt\n",
      "new_data000000000040.txt\n",
      "new_data000000000041.txt\n",
      "new_data000000000042.txt\n",
      "new_data000000000043.txt\n",
      "new_data000000000044.txt\n",
      "new_data000000000045.txt\n",
      "new_data000000000046.txt\n",
      "new_data000000000047.txt\n",
      "new_data000000000048.txt\n",
      "new_data000000000049.txt\n",
      "new_data000000000050.txt\n",
      "new_data000000000051.txt\n",
      "new_data000000000052.txt\n",
      "new_data000000000053.txt\n",
      "new_data000000000054.txt\n",
      "new_data000000000055.txt\n",
      "new_data000000000056.txt\n",
      "new_data000000000057.txt\n",
      "new_data000000000058.txt\n",
      "new_data000000000060.txt\n",
      "new_data000000000061.txt\n",
      "new_data000000000062.txt\n",
      "new_data000000000063.txt\n",
      "new_data000000000064.txt\n",
      "new_data000000000065.txt\n",
      "new_data000000000066.txt\n",
      "new_data000000000067.txt\n",
      "new_data000000000068.txt\n",
      "new_data000000000069.txt\n",
      "new_data000000000070.txt\n",
      "new_data000000000071.txt\n",
      "new_data000000000072.txt\n",
      "new_data000000000073.txt\n",
      "new_data000000000074.txt\n",
      "new_data000000000075.txt\n",
      "new_data000000000076.txt\n",
      "new_data000000000077.txt\n",
      "new_data000000000078.txt\n",
      "new_data000000000079.txt\n",
      "new_data000000000080.txt\n",
      "new_data000000000081.txt\n",
      "new_data000000000082.txt\n",
      "new_data000000000083.txt\n",
      "new_data000000000084.txt\n",
      "new_data000000000085.txt\n",
      "new_data000000000086.txt\n",
      "new_data000000000087.txt\n",
      "new_data000000000088.txt\n",
      "new_data000000000090.txt\n",
      "new_data000000000091.txt\n",
      "new_data000000000092.txt\n",
      "new_data000000000093.txt\n",
      "new_data000000000094.txt\n",
      "new_data000000000095.txt\n",
      "new_data000000000096.txt\n",
      "new_data000000000097.txt\n",
      "new_data000000000098.txt\n",
      "new_data000000000099.txt\n",
      "new_data000000000100.txt\n",
      "new_data000000000101.txt\n",
      "new_data000000000102.txt\n",
      "new_data000000000103.txt\n",
      "new_data000000000105.txt\n",
      "new_data000000000106.txt\n",
      "new_data000000000107.txt\n",
      "new_data000000000108.txt\n",
      "new_data000000000109.txt\n",
      "new_data000000000110.txt\n",
      "new_data000000000111.txt\n",
      "new_data000000000113.txt\n",
      "new_data000000000114.txt\n",
      "new_data000000000115.txt\n",
      "new_data000000000116.txt\n",
      "new_data000000000117.txt\n",
      "new_data000000000118.txt\n",
      "new_data000000000119.txt\n",
      "new_data000000000120.txt\n",
      "new_data000000000121.txt\n",
      "new_data000000000122.txt\n",
      "new_data000000000123.txt\n",
      "new_data000000000124.txt\n",
      "new_data000000000125.txt\n",
      "new_data000000000126.txt\n",
      "new_data000000000127.txt\n",
      "new_data000000000128.txt\n",
      "new_data000000000129.txt\n",
      "new_data000000000130.txt\n",
      "new_data000000000131.txt\n",
      "new_data000000000133.txt\n",
      "new_data000000000134.txt\n",
      "new_data000000000135.txt\n",
      "new_data000000000136.txt\n",
      "new_data000000000137.txt\n",
      "new_data000000000138.txt\n",
      "new_data000000000139.txt\n",
      "new_data000000000141.txt\n",
      "new_data000000000142.txt\n",
      "new_data000000000143.txt\n",
      "new_data000000000144.txt\n",
      "new_data000000000145.txt\n",
      "new_data000000000146.txt\n",
      "new_data000000000147.txt\n",
      "new_data000000000148.txt\n",
      "new_data000000000150.txt\n",
      "new_data000000000151.txt\n",
      "new_data000000000152.txt\n",
      "new_data000000000153.txt\n",
      "new_data000000000154.txt\n",
      "new_data000000000155.txt\n",
      "new_data000000000157.txt\n",
      "new_data000000000158.txt\n",
      "new_data000000000159.txt\n",
      "new_data000000000160.txt\n",
      "new_data000000000161.txt\n",
      "new_data000000000163.txt\n",
      "new_data000000000164.txt\n",
      "new_data000000000165.txt\n",
      "new_data000000000166.txt\n"
     ]
    }
   ],
   "source": [
    "abstract_word_count = []\n",
    "description_word_count = []\n",
    "file_names = [file for file in os.listdir(os.path.join(\"data\",kind_data,\"g\")) if \".txt\" in file]\n",
    "for file_name in tqdm(file_names): \n",
    "\n",
    "    listJSON = readData(os.path.join(\"data\",kind_data,\"g\"),file_name)\n",
    "    for i in range(len(listJSON)) :\n",
    "        abstract = listJSON[i]['abstract']\n",
    "        description = listJSON[i]['description']\n",
    "        \n",
    "        abstract_word_count.append(len(abstract.split()))\n",
    "        description_word_count.append(len(description.split()))\n",
    "        \n"
   ]
  },
  {
   "cell_type": "code",
   "execution_count": 29,
   "id": "2265c8f0",
   "metadata": {},
   "outputs": [
    {
     "data": {
      "image/png": "[encoded data removed]",
      "text/plain": [
       "<Figure size 432x288 with 2 Axes>"
      ]
     },
     "metadata": {
      "needs_background": "light"
     },
     "output_type": "display_data"
    }
   ],
   "source": [
    "\n",
    "length_df = pd.DataFrame({'descrition': description_word_count, 'abstract': abstract_word_count})\n",
    "length_df.hist(bins=50)\n",
    "plt.show()"
   ]
  },
  {
   "cell_type": "code",
   "execution_count": 31,
   "id": "03f8cf69",
   "metadata": {},
   "outputs": [
    {
     "name": "stdout",
     "output_type": "stream",
     "text": [
      "37456\n",
      "2074\n"
     ]
    }
   ],
   "source": [
    "print(max(description_word_count))\n",
    "print(max(abstract_word_count))"
   ]
  },
  {
   "cell_type": "code",
   "execution_count": 74,
   "id": "65f59333",
   "metadata": {},
   "outputs": [
    {
     "name": "stderr",
     "output_type": "stream",
     "text": [
      "100%|██████████| 155/155 [00:56<00:00,  2.73it/s]\n"
     ]
    }
   ],
   "source": [
    "abstract_count = 0\n",
    "description_count = 0\n",
    "count=0\n",
    "lim_abs =160\n",
    "lim_des = 9000\n",
    "file_names = [file for file in os.listdir(os.path.join(\"data\",kind_data,\"g\")) if \".txt\" in file]\n",
    "for file_name in tqdm(file_names): \n",
    "\n",
    "    listJSON = readData(os.path.join(\"data\",kind_data,\"g\"),file_name)\n",
    "    for i in range(len(listJSON)) :\n",
    "        count+=1\n",
    "        abstract = listJSON[i]['abstract']\n",
    "        description = listJSON[i]['description']\n",
    "        \n",
    "        if(len(abstract.split())<=lim_abs):\n",
    "            abstract_count += 1\n",
    "        if(len(description.split())<=lim_des):\n",
    "            description_count += 1\n"
   ]
  },
  {
   "cell_type": "code",
   "execution_count": 75,
   "id": "ad16374a",
   "metadata": {},
   "outputs": [
    {
     "name": "stdout",
     "output_type": "stream",
     "text": [
      " nombre de description de taille inférieure à  9000  :  0.99562438449804\n",
      " nombre d 'abstract de taille inférieure à  160  :  0.9963813312221214\n",
      "258935\n"
     ]
    }
   ],
   "source": [
    "print(\" nombre de description de taille inférieure à \",lim_des , \" : \",description_count/count)    \n",
    "print(\" nombre d 'abstract de taille inférieure à \",lim_abs , \" : \",abstract_count/count)   \n",
    "print(count)"
   ]
  },
  {
   "cell_type": "code",
   "execution_count": 73,
   "id": "d5b21ce5",
   "metadata": {},
   "outputs": [],
   "source": []
  },
  {
   "cell_type": "code",
   "execution_count": null,
   "id": "16919d43",
   "metadata": {},
   "outputs": [],
   "source": []
  },
  {
   "cell_type": "code",
   "execution_count": null,
   "id": "a81aa17d",
   "metadata": {},
   "outputs": [],
   "source": []
  },
  {
   "cell_type": "code",
   "execution_count": null,
   "id": "52927df2",
   "metadata": {},
   "outputs": [],
   "source": [
    "\n",
    "cleaned_text = np.array(cleaned_text)\n",
    "cleaned_headlines = np.array(cleaned_headlines)\n",
    "\n",
    "short_text=[]\n",
    "short_headlines=[]\n",
    "\n",
    "for i in range(len(cleaned_text)):\n",
    "    \n",
    "    if(len(cleaned_headlines[i].split())<=max_headlines_len and len(cleaned_text[i].split())<=max_text_len):\n",
    "        short_text.append(cleaned_text[i])\n",
    "        short_headlines.append(cleaned_headlines[i])\n",
    "\n",
    "        \n",
    "        \n"
   ]
  },
  {
   "cell_type": "markdown",
   "id": "c5ba6b4c",
   "metadata": {},
   "source": [
    "# Tokenization"
   ]
  },
  {
   "cell_type": "markdown",
   "id": "2a3c60c8",
   "metadata": {},
   "source": [
    "## Sur Description"
   ]
  },
  {
   "cell_type": "code",
   "execution_count": 58,
   "id": "8659705d",
   "metadata": {},
   "outputs": [
    {
     "name": "stderr",
     "output_type": "stream",
     "text": [
      "100%|██████████| 155/155 [10:36<00:00,  4.11s/it]\n"
     ]
    }
   ],
   "source": [
    "x_tokenizer = Tokenizer() \n",
    "#x_tokenizer.fit_on_texts(_____)\n",
    "\n",
    "file_names = [file for file in os.listdir(os.path.join(\"data\",kind_data,\"g\")) if \".txt\" in file]\n",
    "for i in tqdm(range(len(file_names))) : \n",
    "    file_name=file_names[i]\n",
    "    listJSON = readData(os.path.join(\"data\",kind_data,\"g\"),file_name)\n",
    "\n",
    "    descriptions = [i['description'] for i in listJSON  ]#listJSON[:]['description']\n",
    "    x_tokenizer.fit_on_texts(descriptions)"
   ]
  },
  {
   "cell_type": "code",
   "execution_count": 59,
   "id": "ee01f493",
   "metadata": {},
   "outputs": [
    {
     "name": "stderr",
     "output_type": "stream",
     "text": [
      " 33%|███▎      | 191248/588085 [00:00<00:00, 628068.60it/s]"
     ]
    },
    {
     "name": "stdout",
     "output_type": "stream",
     "text": [
      "referring 367900\n",
      "fig 5199387\n",
      "service 309448\n",
      "technician 13298\n",
      "visiting 2887\n",
      "customer 210628\n",
      "location 405434\n",
      "provided 808434\n",
      "input 1283124\n"
     ]
    },
    {
     "name": "stderr",
     "output_type": "stream",
     "text": [
      "100%|██████████| 588085/588085 [00:01<00:00, 562386.96it/s]"
     ]
    },
    {
     "name": "stdout",
     "output_type": "stream",
     "text": [
      "% of rare words in vocabulary: 59.7163675319044\n",
      "Total Coverage of rare words: 0.11371321630587963\n"
     ]
    },
    {
     "name": "stderr",
     "output_type": "stream",
     "text": [
      "\n"
     ]
    }
   ],
   "source": [
    "thresh=4\n",
    "cnt=0\n",
    "tot_cnt=0\n",
    "freq=0\n",
    "tot_freq=0\n",
    "\n",
    "for key,value in tqdm(x_tokenizer.word_counts.items()):\n",
    "    tot_cnt=tot_cnt+1\n",
    "    \n",
    "    tot_freq=tot_freq+value\n",
    "    if tot_cnt<10 :\n",
    "        print(key,value)\n",
    "    \n",
    "    \n",
    "    if(value<thresh):\n",
    "        \n",
    "        cnt=cnt+1\n",
    "        freq=freq+value\n",
    "    \n",
    "print(\"% of rare words in vocabulary:\",(cnt/tot_cnt)*100,\"%\")\n",
    "print(\"Total Coverage of rare words:\",(freq/tot_freq)*100,\"%\")"
   ]
  },
  {
   "cell_type": "code",
   "execution_count": 60,
   "id": "ba3eb7e9",
   "metadata": {},
   "outputs": [
    {
     "name": "stderr",
     "output_type": "stream",
     "text": [
      "100%|██████████| 155/155 [11:36<00:00,  4.49s/it]\n"
     ]
    }
   ],
   "source": [
    "#prepare a LIMITED tokenizer for reviews on training data\n",
    "x_tokenizer = Tokenizer(num_words=tot_cnt-cnt) \n",
    "\n",
    "\n",
    "file_names = [file for file in os.listdir(os.path.join(\"data\",kind_data,\"g\")) if \".txt\" in file]\n",
    "for i in tqdm(range(len(file_names))) : \n",
    "    file_name=file_names[i]\n",
    "    listJSON = readData(os.path.join(\"data\",kind_data,\"g\"),file_name)\n",
    "\n",
    "    descriptions = [i['description'] for i in listJSON  ]\n",
    "    x_tokenizer.fit_on_texts(descriptions)"
   ]
  },
  {
   "cell_type": "code",
   "execution_count": 63,
   "id": "958f1585",
   "metadata": {},
   "outputs": [
    {
     "name": "stderr",
     "output_type": "stream",
     "text": [
      "100%|██████████| 155/155 [00:36<00:00,  4.29it/s]\n",
      "100%|██████████| 155/155 [00:14<00:00, 10.55it/s]\n",
      "100%|██████████| 155/155 [00:14<00:00, 10.44it/s]\n"
     ]
    }
   ],
   "source": [
    "#### Enregistrement des données tokénisés\n",
    "os.makedirs(\"data_token\", exist_ok=True)\n",
    "for kind_data in [\"train\",\"val\",\"test\"]:\n",
    "    name_folder0 = \"data_token/\"+kind_data\n",
    "    name_folder = \"data_token/\"+kind_data+\"/g\"\n",
    "    os.makedirs(name_folder0, exist_ok=True)\n",
    "    os.makedirs(name_folder, exist_ok=True)\n",
    "    \n",
    "    file_names = [file for file in os.listdir(os.path.join(\"data\",kind_data,\"g\")) if \".txt\" in file]\n",
    "    for i in tqdm(range(len(file_names))) :\n",
    "        file_name=file_names[i]\n",
    "        listJSON = readData(os.path.join(\"data\",kind_data,\"g\"),file_name) \n",
    "        descriptions = [i['description'] for i in listJSON  ]\n",
    "        x_tr_seq   =  x_tokenizer.texts_to_sequences(description) \n",
    "        \n",
    "        #Padding ?????????????????????????????????????\n",
    "        #x_tr    =   pad_sequences(x_tr_seq,  maxlen=max_text_len, padding='post')\n",
    "        #x_val   =   pad_sequences(x_val_seq, maxlen=max_text_len, padding='post')\n",
    "    \n",
    "        #on save ici le fichier à l'adresse\n",
    "        np.save(name_folder+'/'+file_name+\"_tok\", x_tr_seq)\n",
    "        \n",
    "    \n",
    "    \n",
    "    \n",
    "    "
   ]
  },
  {
   "cell_type": "markdown",
   "id": "71bb1adb",
   "metadata": {},
   "source": [
    "## Abstract"
   ]
  },
  {
   "cell_type": "code",
   "execution_count": 64,
   "id": "8c24d76a",
   "metadata": {},
   "outputs": [
    {
     "name": "stderr",
     "output_type": "stream",
     "text": [
      "100%|██████████| 155/155 [00:06<00:00, 24.75it/s]\n"
     ]
    }
   ],
   "source": [
    "x_tokenizer = Tokenizer() \n",
    "#x_tokenizer.fit_on_texts(_____)\n",
    "\n",
    "file_names = [file for file in os.listdir(os.path.join(\"data\",kind_data,\"g\")) if \".txt\" in file]\n",
    "for i in tqdm(range(len(file_names))) : \n",
    "    file_name=file_names[i]\n",
    "    listJSON = readData(os.path.join(\"data\",kind_data,\"g\"),file_name)\n",
    "\n",
    "    abstracts = [i['abstract'] for i in listJSON  ]#listJSON[:]['description']\n",
    "    x_tokenizer.fit_on_texts(abstracts)"
   ]
  },
  {
   "cell_type": "code",
   "execution_count": 65,
   "id": "195a5a1c",
   "metadata": {},
   "outputs": [
    {
     "name": "stderr",
     "output_type": "stream",
     "text": [
      "100%|██████████| 23130/23130 [00:00<00:00, 746137.20it/s]"
     ]
    },
    {
     "name": "stdout",
     "output_type": "stream",
     "text": [
      "% of rare words in vocabulary: 49.63683527885863 %\n",
      "Total Coverage of rare words: 1.8688827752634516 %\n"
     ]
    },
    {
     "name": "stderr",
     "output_type": "stream",
     "text": [
      "\n"
     ]
    }
   ],
   "source": [
    "thresh=4\n",
    "cnt=0\n",
    "tot_cnt=0\n",
    "freq=0\n",
    "tot_freq=0\n",
    "\n",
    "for key,value in tqdm(x_tokenizer.word_counts.items()):\n",
    "    tot_cnt=tot_cnt+1\n",
    "    tot_freq=tot_freq+value\n",
    "    \n",
    "    if(value<thresh):\n",
    "        \n",
    "        cnt=cnt+1\n",
    "        freq=freq+value\n",
    "    \n",
    "print(\"% of rare words in vocabulary:\",(cnt/tot_cnt)*100,\"%\")\n",
    "print(\"Total Coverage of rare words:\",(freq/tot_freq)*100,\"%\")"
   ]
  },
  {
   "cell_type": "code",
   "execution_count": 66,
   "id": "e4cecd14",
   "metadata": {},
   "outputs": [
    {
     "name": "stderr",
     "output_type": "stream",
     "text": [
      "100%|██████████| 155/155 [00:06<00:00, 24.34it/s]\n"
     ]
    }
   ],
   "source": [
    "#prepare a LIMITED tokenizer for reviews on training data\n",
    "x_tokenizer = Tokenizer(num_words=tot_cnt-cnt) \n",
    "\n",
    "\n",
    "file_names = [file for file in os.listdir(os.path.join(\"data\",kind_data,\"g\")) if \".txt\" in file]\n",
    "for i in tqdm(range(len(file_names))) : \n",
    "    file_name=file_names[i]\n",
    "    listJSON = readData(os.path.join(\"data\",kind_data,\"g\"),file_name)\n",
    "\n",
    "    abstracts = [i['abstract'] for i in listJSON  ]\n",
    "    x_tokenizer.fit_on_texts(abstracts)"
   ]
  },
  {
   "cell_type": "code",
   "execution_count": 68,
   "id": "92b9aeb6",
   "metadata": {},
   "outputs": [
    {
     "name": "stderr",
     "output_type": "stream",
     "text": [
      "100%|██████████| 155/155 [00:35<00:00,  4.38it/s]\n",
      "100%|██████████| 155/155 [00:02<00:00, 59.17it/s]\n",
      "100%|██████████| 155/155 [00:02<00:00, 61.57it/s]\n"
     ]
    }
   ],
   "source": [
    "#### Enregistrement des données tokénisés\n",
    "os.makedirs(\"data_token\", exist_ok=True)\n",
    "for kind_data in [\"train\",\"val\",\"test\"]:\n",
    "    name_folder0 = \"data_token/\"+kind_data\n",
    "    name_folder = \"data_token/\"+kind_data+\"/g\"\n",
    "    os.makedirs(name_folder0, exist_ok=True)\n",
    "    os.makedirs(name_folder, exist_ok=True)\n",
    "    \n",
    "    file_names = [file for file in os.listdir(os.path.join(\"data\",kind_data,\"g\")) if \".txt\" in file]\n",
    "    for i in tqdm(range(len(file_names))) :\n",
    "        file_name=file_names[i]\n",
    "        listJSON = readData(os.path.join(\"data\",kind_data,\"g\"),file_name) \n",
    "        abstracts = [i['abstract'] for i in listJSON  ]\n",
    "        x_tr_seq   =  x_tokenizer.texts_to_sequences(abstracts) \n",
    "        \n",
    "        #Padding ?????????????????????????????????????\n",
    "        #x_tr    =   pad_sequences(x_tr_seq,  maxlen=max_text_len, padding='post')\n",
    "        #x_val   =   pad_sequences(x_val_seq, maxlen=max_text_len, padding='post')\n",
    "    \n",
    "        #on save ici le fichier à l'adresse\n",
    "        np.save(name_folder+'/'+file_name+\"_tok\", x_tr_seq)"
   ]
  },
  {
   "cell_type": "code",
   "execution_count": null,
   "id": "80265890",
   "metadata": {},
   "outputs": [],
   "source": [
    "################modif la save est pas bonne"
   ]
  },
  {
   "cell_type": "code",
   "execution_count": null,
   "id": "6bca2c61",
   "metadata": {},
   "outputs": [],
   "source": []
  },
  {
   "cell_type": "code",
   "execution_count": null,
   "id": "4728f487",
   "metadata": {},
   "outputs": [],
   "source": []
  },
  {
   "cell_type": "code",
   "execution_count": null,
   "id": "8f54ef31",
   "metadata": {},
   "outputs": [],
   "source": []
  },
  {
   "cell_type": "code",
   "execution_count": null,
   "id": "0c51c471",
   "metadata": {},
   "outputs": [],
   "source": []
  },
  {
   "cell_type": "code",
   "execution_count": null,
   "id": "0dd25444",
   "metadata": {},
   "outputs": [],
   "source": []
  },
  {
   "cell_type": "code",
   "execution_count": null,
   "id": "624b482b",
   "metadata": {},
   "outputs": [],
   "source": []
  },
  {
   "cell_type": "code",
   "execution_count": 48,
   "id": "a7ed76e5",
   "metadata": {},
   "outputs": [
    {
     "ename": "NameError",
     "evalue": "name 'x_tr' is not defined",
     "output_type": "error",
     "traceback": [
      "\u001b[1;31m---------------------------------------------------------------------------\u001b[0m",
      "\u001b[1;31mNameError\u001b[0m                                 Traceback (most recent call last)",
      "\u001b[1;32m<ipython-input-48-f1867f5fdb64>\u001b[0m in \u001b[0;36m<module>\u001b[1;34m\u001b[0m\n\u001b[0;32m      1\u001b[0m \u001b[1;31m#prepare a tokenizer for reviews on training data\u001b[0m\u001b[1;33m\u001b[0m\u001b[1;33m\u001b[0m\u001b[1;33m\u001b[0m\u001b[0m\n\u001b[0;32m      2\u001b[0m \u001b[1;33m\u001b[0m\u001b[0m\n\u001b[1;32m----> 3\u001b[1;33m \u001b[0mx_tokenizer\u001b[0m\u001b[1;33m.\u001b[0m\u001b[0mfit_on_texts\u001b[0m\u001b[1;33m(\u001b[0m\u001b[0mlist\u001b[0m\u001b[1;33m(\u001b[0m\u001b[0mx_tr\u001b[0m\u001b[1;33m)\u001b[0m\u001b[1;33m)\u001b[0m\u001b[1;33m\u001b[0m\u001b[1;33m\u001b[0m\u001b[0m\n\u001b[0m\u001b[0;32m      4\u001b[0m \u001b[1;33m\u001b[0m\u001b[0m\n\u001b[0;32m      5\u001b[0m \u001b[0mthresh\u001b[0m\u001b[1;33m=\u001b[0m\u001b[1;36m4\u001b[0m\u001b[1;33m\u001b[0m\u001b[1;33m\u001b[0m\u001b[0m\n",
      "\u001b[1;31mNameError\u001b[0m: name 'x_tr' is not defined"
     ]
    }
   ],
   "source": [
    "\n",
    "\n",
    "#convert text sequences into integer sequences\n",
    "x_tr_seq    =   x_tokenizer.texts_to_sequences(x_tr) \n",
    "x_val_seq   =   x_tokenizer.texts_to_sequences(x_val)\n",
    "\n",
    "#padding zero upto maximum length\n",
    "x_tr    =   pad_sequences(x_tr_seq,  maxlen=max_text_len, padding='post')\n",
    "x_val   =   pad_sequences(x_val_seq, maxlen=max_text_len, padding='post')\n",
    "\n",
    "#size of vocabulary ( +1 for padding token)\n",
    "x_voc   =  x_tokenizer.num_words + 1\n",
    "\n",
    "print(x_voc)"
   ]
  },
  {
   "cell_type": "code",
   "execution_count": null,
   "id": "920572f2",
   "metadata": {},
   "outputs": [],
   "source": []
  }
 ],
 "metadata": {
  "kernelspec": {
   "display_name": "Python 3",
   "language": "python",
   "name": "python3"
  },
  "language_info": {
   "codemirror_mode": {
    "name": "ipython",
    "version": 3
   },
   "file_extension": ".py",
   "mimetype": "text/x-python",
   "name": "python",
   "nbconvert_exporter": "python",
   "pygments_lexer": "ipython3",
   "version": "3.8.10"
  }
 },
 "nbformat": 4,
 "nbformat_minor": 5
}
